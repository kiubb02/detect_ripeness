{
 "cells": [
  {
   "cell_type": "code",
   "execution_count": 1,
   "metadata": {},
   "outputs": [
    {
     "name": "stdout",
     "output_type": "stream",
     "text": [
      "Requirement already satisfied: opencv-python in c:\\users\\chiar\\anaconda3\\lib\\site-packages (4.5.5.64)\n",
      "Requirement already satisfied: numpy>=1.17.3 in c:\\users\\chiar\\anaconda3\\lib\\site-packages (from opencv-python) (1.19.2)\n"
     ]
    },
    {
     "name": "stderr",
     "output_type": "stream",
     "text": [
      "WARNING: You are using pip version 21.3.1; however, version 22.0.4 is available.\n",
      "You should consider upgrading via the 'c:\\users\\chiar\\anaconda3\\python.exe -m pip install --upgrade pip' command.\n"
     ]
    }
   ],
   "source": [
    "!pip install opencv-python"
   ]
  },
  {
   "cell_type": "code",
   "execution_count": 2,
   "metadata": {},
   "outputs": [],
   "source": [
    "# Import opencv\n",
    "import cv2 \n",
    "\n",
    "# Import uuid\n",
    "import uuid\n",
    "\n",
    "# Import Operating System\n",
    "import os\n",
    "\n",
    "# Import time\n",
    "import time"
   ]
  },
  {
   "cell_type": "code",
   "execution_count": 7,
   "metadata": {},
   "outputs": [],
   "source": [
    "# do we have nay other labels?\n",
    "labels = ['ripe']\n",
    "# since its a test model we will get 10 images\n",
    "number_imgs = 20"
   ]
  },
  {
   "cell_type": "code",
   "execution_count": 8,
   "metadata": {},
   "outputs": [],
   "source": [
    "IMAGES_PATH = os.path.join('Tensorflow', 'workspace', 'images', 'collectedimages')"
   ]
  },
  {
   "cell_type": "code",
   "execution_count": 9,
   "metadata": {},
   "outputs": [],
   "source": [
    "if not os.path.exists(IMAGES_PATH):\n",
    "    if os.name == 'posix':\n",
    "        !mkdir -p {IMAGES_PATH}\n",
    "    if os.name == 'nt':\n",
    "         !mkdir {IMAGES_PATH}\n",
    "for label in labels:\n",
    "    path = os.path.join(IMAGES_PATH, label)\n",
    "    if not os.path.exists(path):\n",
    "        !mkdir {path}"
   ]
  },
  {
   "cell_type": "code",
   "execution_count": 10,
   "metadata": {},
   "outputs": [
    {
     "name": "stdout",
     "output_type": "stream",
     "text": [
      "Collecting images for ripe\n",
      "Collecting image 0\n",
      "Collecting image 1\n",
      "Collecting image 2\n",
      "Collecting image 3\n",
      "Collecting image 4\n",
      "Collecting image 5\n",
      "Collecting image 6\n",
      "Collecting image 7\n",
      "Collecting image 8\n",
      "Collecting image 9\n",
      "Collecting image 10\n",
      "Collecting image 11\n",
      "Collecting image 12\n",
      "Collecting image 13\n",
      "Collecting image 14\n",
      "Collecting image 15\n",
      "Collecting image 16\n",
      "Collecting image 17\n",
      "Collecting image 18\n",
      "Collecting image 19\n"
     ]
    }
   ],
   "source": [
    "for label in labels:\n",
    "    cap = cv2.VideoCapture(0)\n",
    "    print('Collecting images for {}'.format(label))\n",
    "    time.sleep(5)\n",
    "    for imgnum in range(number_imgs):\n",
    "        print('Collecting image {}'.format(imgnum))\n",
    "        ret, frame = cap.read()\n",
    "        imgname = os.path.join(IMAGES_PATH,label,label+'.'+'{}.jpg'.format(str(uuid.uuid1())))\n",
    "        cv2.imwrite(imgname, frame)\n",
    "        cv2.imshow('frame', frame)\n",
    "        time.sleep(2)\n",
    "\n",
    "        if cv2.waitKey(1) & 0xFF == ord('q'):\n",
    "            break\n",
    "cap.release()\n",
    "cv2.destroyAllWindows()"
   ]
  },
  {
   "cell_type": "code",
   "execution_count": 11,
   "metadata": {},
   "outputs": [
    {
     "name": "stdout",
     "output_type": "stream",
     "text": [
      "Collecting pyqt5\n",
      "  Using cached PyQt5-5.15.6-cp36-abi3-win_amd64.whl (6.7 MB)\n",
      "Requirement already satisfied: lxml in c:\\users\\chiar\\anaconda3\\lib\\site-packages (4.6.1)\n",
      "Collecting lxml\n",
      "  Downloading lxml-4.8.0-cp38-cp38-win_amd64.whl (3.6 MB)\n",
      "Collecting PyQt5-sip<13,>=12.8\n",
      "  Downloading PyQt5_sip-12.9.1-cp38-cp38-win_amd64.whl (77 kB)\n",
      "Collecting PyQt5-Qt5>=5.15.2\n",
      "  Using cached PyQt5_Qt5-5.15.2-py3-none-win_amd64.whl (50.1 MB)\n",
      "Installing collected packages: PyQt5-sip, PyQt5-Qt5, pyqt5, lxml\n",
      "  Attempting uninstall: lxml\n",
      "    Found existing installation: lxml 4.6.1\n",
      "    Uninstalling lxml-4.6.1:\n",
      "      Successfully uninstalled lxml-4.6.1\n",
      "Successfully installed PyQt5-Qt5-5.15.2 PyQt5-sip-12.9.1 lxml-4.8.0 pyqt5-5.15.6\n"
     ]
    },
    {
     "name": "stderr",
     "output_type": "stream",
     "text": [
      "ERROR: pip's dependency resolver does not currently take into account all the packages that are installed. This behaviour is the source of the following dependency conflicts.\n",
      "spyder 4.1.5 requires pyqtwebengine<5.13; python_version >= \"3\", which is not installed.\n",
      "spyder 4.1.5 requires pyqt5<5.13; python_version >= \"3\", but you have pyqt5 5.15.6 which is incompatible.\n",
      "WARNING: You are using pip version 21.3.1; however, version 22.0.4 is available.\n",
      "You should consider upgrading via the 'c:\\users\\chiar\\anaconda3\\python.exe -m pip install --upgrade pip' command.\n"
     ]
    }
   ],
   "source": [
    "!pip install --upgrade pyqt5 lxml"
   ]
  },
  {
   "cell_type": "code",
   "execution_count": 12,
   "metadata": {},
   "outputs": [],
   "source": [
    "LABELIMG_PATH = os.path.join('Tensorflow', 'labelimg')"
   ]
  },
  {
   "cell_type": "code",
   "execution_count": 13,
   "metadata": {},
   "outputs": [
    {
     "name": "stderr",
     "output_type": "stream",
     "text": [
      "Cloning into 'Tensorflow\\labelimg'...\n",
      "Updating files:  68% (74/108)\n",
      "Updating files:  69% (75/108)\n",
      "Updating files:  70% (76/108)\n",
      "Updating files:  71% (77/108)\n",
      "Updating files:  72% (78/108)\n",
      "Updating files:  73% (79/108)\n",
      "Updating files:  74% (80/108)\n",
      "Updating files:  75% (81/108)\n",
      "Updating files:  76% (83/108)\n",
      "Updating files:  77% (84/108)\n",
      "Updating files:  78% (85/108)\n",
      "Updating files:  79% (86/108)\n",
      "Updating files:  80% (87/108)\n",
      "Updating files:  81% (88/108)\n",
      "Updating files:  82% (89/108)\n",
      "Updating files:  83% (90/108)\n",
      "Updating files:  84% (91/108)\n",
      "Updating files:  85% (92/108)\n",
      "Updating files:  86% (93/108)\n",
      "Updating files:  87% (94/108)\n",
      "Updating files:  88% (96/108)\n",
      "Updating files:  89% (97/108)\n",
      "Updating files:  90% (98/108)\n",
      "Updating files:  91% (99/108)\n",
      "Updating files:  92% (100/108)\n",
      "Updating files:  93% (101/108)\n",
      "Updating files:  94% (102/108)\n",
      "Updating files:  95% (103/108)\n",
      "Updating files:  96% (104/108)\n",
      "Updating files:  97% (105/108)\n",
      "Updating files:  98% (106/108)\n",
      "Updating files:  99% (107/108)\n",
      "Updating files: 100% (108/108)\n",
      "Updating files: 100% (108/108), done.\n"
     ]
    }
   ],
   "source": [
    "if not os.path.exists(LABELIMG_PATH):\n",
    "    !mkdir {LABELIMG_PATH}\n",
    "    !git clone https://github.com/tzutalin/labelImg {LABELIMG_PATH}"
   ]
  },
  {
   "cell_type": "code",
   "execution_count": 14,
   "metadata": {},
   "outputs": [],
   "source": [
    "if os.name == 'posix':\n",
    "    !cd {LABELIMG_PATH} && make qt5py3\n",
    "if os.name =='nt':\n",
    "    !cd {LABELIMG_PATH} && pyrcc5 -o libs/resources.py resources.qrc"
   ]
  },
  {
   "cell_type": "code",
   "execution_count": 15,
   "metadata": {},
   "outputs": [
    {
     "name": "stdout",
     "output_type": "stream",
     "text": [
      "Cancel creation.\n",
      "Cancel creation.\n",
      "Image:C:\\Users\\chiar\\PycharmProjects\\detect_ripe_strawberry\\NN\\Tensorflow\\workspace\\images\\collectedimages\\ripe\\ripe.2a641edc-b1c9-11ec-a06f-84865adf2ffa.jpg -> Annotation:C:/Users/chiar/PycharmProjects/detect_ripe_strawberry/NN/Tensorflow/workspace/images/collectedimages/ripe/ripe.2a641edc-b1c9-11ec-a06f-84865adf2ffa.xml\n",
      "Image:C:\\Users\\chiar\\PycharmProjects\\detect_ripe_strawberry\\NN\\Tensorflow\\workspace\\images\\collectedimages\\ripe\\ripe.2a641edc-b1c9-11ec-a06f-84865adf2ffa.jpg -> Annotation:C:\\Users\\chiar\\PycharmProjects\\detect_ripe_strawberry\\NN\\Tensorflow\\workspace\\images\\collectedimages\\ripe\\ripe.2a641edc-b1c9-11ec-a06f-84865adf2ffa.xml\n",
      "Image:C:\\Users\\chiar\\PycharmProjects\\detect_ripe_strawberry\\NN\\Tensorflow\\workspace\\images\\collectedimages\\ripe\\ripe.2ba131be-b1c9-11ec-a1ab-84865adf2ffa.jpg -> Annotation:C:/Users/chiar/PycharmProjects/detect_ripe_strawberry/NN/Tensorflow/workspace/images/collectedimages/ripe/ripe.2ba131be-b1c9-11ec-a1ab-84865adf2ffa.xml\n",
      "Image:C:\\Users\\chiar\\PycharmProjects\\detect_ripe_strawberry\\NN\\Tensorflow\\workspace\\images\\collectedimages\\ripe\\ripe.2ba131be-b1c9-11ec-a1ab-84865adf2ffa.jpg -> Annotation:C:\\Users\\chiar\\PycharmProjects\\detect_ripe_strawberry\\NN\\Tensorflow\\workspace\\images\\collectedimages\\ripe\\ripe.2ba131be-b1c9-11ec-a1ab-84865adf2ffa.xml\n",
      "Image:C:\\Users\\chiar\\PycharmProjects\\detect_ripe_strawberry\\NN\\Tensorflow\\workspace\\images\\collectedimages\\ripe\\ripe.2cdf9c93-b1c9-11ec-ab70-84865adf2ffa.jpg -> Annotation:C:/Users/chiar/PycharmProjects/detect_ripe_strawberry/NN/Tensorflow/workspace/images/collectedimages/ripe/ripe.2cdf9c93-b1c9-11ec-ab70-84865adf2ffa.xml\n",
      "Image:C:\\Users\\chiar\\PycharmProjects\\detect_ripe_strawberry\\NN\\Tensorflow\\workspace\\images\\collectedimages\\ripe\\ripe.2cdf9c93-b1c9-11ec-ab70-84865adf2ffa.jpg -> Annotation:C:\\Users\\chiar\\PycharmProjects\\detect_ripe_strawberry\\NN\\Tensorflow\\workspace\\images\\collectedimages\\ripe\\ripe.2cdf9c93-b1c9-11ec-ab70-84865adf2ffa.xml\n",
      "Image:C:\\Users\\chiar\\PycharmProjects\\detect_ripe_strawberry\\NN\\Tensorflow\\workspace\\images\\collectedimages\\ripe\\ripe.2e1f4f56-b1c9-11ec-902d-84865adf2ffa.jpg -> Annotation:C:/Users/chiar/PycharmProjects/detect_ripe_strawberry/NN/Tensorflow/workspace/images/collectedimages/ripe/ripe.2e1f4f56-b1c9-11ec-902d-84865adf2ffa.xml\n",
      "Image:C:\\Users\\chiar\\PycharmProjects\\detect_ripe_strawberry\\NN\\Tensorflow\\workspace\\images\\collectedimages\\ripe\\ripe.2f5f5f29-b1c9-11ec-ab5c-84865adf2ffa.jpg -> Annotation:C:/Users/chiar/PycharmProjects/detect_ripe_strawberry/NN/Tensorflow/workspace/images/collectedimages/ripe/ripe.2f5f5f29-b1c9-11ec-ab5c-84865adf2ffa.xml\n",
      "Image:C:\\Users\\chiar\\PycharmProjects\\detect_ripe_strawberry\\NN\\Tensorflow\\workspace\\images\\collectedimages\\ripe\\ripe.3a8d02c6-b1c9-11ec-b924-84865adf2ffa.jpg -> Annotation:C:/Users/chiar/PycharmProjects/detect_ripe_strawberry/NN/Tensorflow/workspace/images/collectedimages/ripe/ripe.3a8d02c6-b1c9-11ec-b924-84865adf2ffa.xml\n",
      "Cancel creation.\n",
      "Image:C:\\Users\\chiar\\PycharmProjects\\detect_ripe_strawberry\\NN\\Tensorflow\\workspace\\images\\collectedimages\\ripe\\ripe.3bcaafcf-b1c9-11ec-a021-84865adf2ffa.jpg -> Annotation:C:/Users/chiar/PycharmProjects/detect_ripe_strawberry/NN/Tensorflow/workspace/images/collectedimages/ripe/ripe.3bcaafcf-b1c9-11ec-a021-84865adf2ffa.xml\n",
      "Image:C:\\Users\\chiar\\PycharmProjects\\detect_ripe_strawberry\\NN\\Tensorflow\\workspace\\images\\collectedimages\\ripe\\ripe.3d098ad3-b1c9-11ec-ac82-84865adf2ffa.jpg -> Annotation:C:/Users/chiar/PycharmProjects/detect_ripe_strawberry/NN/Tensorflow/workspace/images/collectedimages/ripe/ripe.3d098ad3-b1c9-11ec-ac82-84865adf2ffa.xml\n",
      "Image:C:\\Users\\chiar\\PycharmProjects\\detect_ripe_strawberry\\NN\\Tensorflow\\workspace\\images\\collectedimages\\ripe\\ripe.3d098ad3-b1c9-11ec-ac82-84865adf2ffa.jpg -> Annotation:C:\\Users\\chiar\\PycharmProjects\\detect_ripe_strawberry\\NN\\Tensorflow\\workspace\\images\\collectedimages\\ripe\\ripe.3d098ad3-b1c9-11ec-ac82-84865adf2ffa.xml\n",
      "Image:C:\\Users\\chiar\\PycharmProjects\\detect_ripe_strawberry\\NN\\Tensorflow\\workspace\\images\\collectedimages\\ripe\\ripe.3e46a0bd-b1c9-11ec-89f1-84865adf2ffa.jpg -> Annotation:C:/Users/chiar/PycharmProjects/detect_ripe_strawberry/NN/Tensorflow/workspace/images/collectedimages/ripe/ripe.3e46a0bd-b1c9-11ec-89f1-84865adf2ffa.xml\n",
      "Image:C:\\Users\\chiar\\PycharmProjects\\detect_ripe_strawberry\\NN\\Tensorflow\\workspace\\images\\collectedimages\\ripe\\ripe.3f82fb16-b1c9-11ec-99c5-84865adf2ffa.jpg -> Annotation:C:/Users/chiar/PycharmProjects/detect_ripe_strawberry/NN/Tensorflow/workspace/images/collectedimages/ripe/ripe.3f82fb16-b1c9-11ec-99c5-84865adf2ffa.xml\n",
      "Image:C:\\Users\\chiar\\PycharmProjects\\detect_ripe_strawberry\\NN\\Tensorflow\\workspace\\images\\collectedimages\\ripe\\ripe.27bb8c07-b1c9-11ec-80b4-84865adf2ffa.jpg -> Annotation:C:/Users/chiar/PycharmProjects/detect_ripe_strawberry/NN/Tensorflow/workspace/images/collectedimages/ripe/ripe.27bb8c07-b1c9-11ec-80b4-84865adf2ffa.xml\n",
      "Image:C:\\Users\\chiar\\PycharmProjects\\detect_ripe_strawberry\\NN\\Tensorflow\\workspace\\images\\collectedimages\\ripe\\ripe.31dc24f0-b1c9-11ec-8b2c-84865adf2ffa.jpg -> Annotation:C:/Users/chiar/PycharmProjects/detect_ripe_strawberry/NN/Tensorflow/workspace/images/collectedimages/ripe/ripe.31dc24f0-b1c9-11ec-8b2c-84865adf2ffa.xml\n",
      "Image:C:\\Users\\chiar\\PycharmProjects\\detect_ripe_strawberry\\NN\\Tensorflow\\workspace\\images\\collectedimages\\ripe\\ripe.36d2dc9e-b1c9-11ec-b657-84865adf2ffa.jpg -> Annotation:C:/Users/chiar/PycharmProjects/detect_ripe_strawberry/NN/Tensorflow/workspace/images/collectedimages/ripe/ripe.36d2dc9e-b1c9-11ec-b657-84865adf2ffa.xml\n",
      "Image:C:\\Users\\chiar\\PycharmProjects\\detect_ripe_strawberry\\NN\\Tensorflow\\workspace\\images\\collectedimages\\ripe\\ripe.309de393-b1c9-11ec-b0a5-84865adf2ffa.jpg -> Annotation:C:/Users/chiar/PycharmProjects/detect_ripe_strawberry/NN/Tensorflow/workspace/images/collectedimages/ripe/ripe.309de393-b1c9-11ec-b0a5-84865adf2ffa.xml\n",
      "Image:C:\\Users\\chiar\\PycharmProjects\\detect_ripe_strawberry\\NN\\Tensorflow\\workspace\\images\\collectedimages\\ripe\\ripe.2922f158-b1c9-11ec-949d-84865adf2ffa.jpg -> Annotation:C:/Users/chiar/PycharmProjects/detect_ripe_strawberry/NN/Tensorflow/workspace/images/collectedimages/ripe/ripe.2922f158-b1c9-11ec-949d-84865adf2ffa.xml\n",
      "Image:C:\\Users\\chiar\\PycharmProjects\\detect_ripe_strawberry\\NN\\Tensorflow\\workspace\\images\\collectedimages\\ripe\\ripe.3593a33a-b1c9-11ec-aa49-84865adf2ffa.jpg -> Annotation:C:/Users/chiar/PycharmProjects/detect_ripe_strawberry/NN/Tensorflow/workspace/images/collectedimages/ripe/ripe.3593a33a-b1c9-11ec-aa49-84865adf2ffa.xml\n",
      "Image:C:\\Users\\chiar\\PycharmProjects\\detect_ripe_strawberry\\NN\\Tensorflow\\workspace\\images\\collectedimages\\ripe\\ripe.39509b08-b1c9-11ec-97dc-84865adf2ffa.jpg -> Annotation:C:/Users/chiar/PycharmProjects/detect_ripe_strawberry/NN/Tensorflow/workspace/images/collectedimages/ripe/ripe.39509b08-b1c9-11ec-97dc-84865adf2ffa.xml\n",
      "Image:C:\\Users\\chiar\\PycharmProjects\\detect_ripe_strawberry\\NN\\Tensorflow\\workspace\\images\\collectedimages\\ripe\\ripe.345493bd-b1c9-11ec-8355-84865adf2ffa.jpg -> Annotation:C:/Users/chiar/PycharmProjects/detect_ripe_strawberry/NN/Tensorflow/workspace/images/collectedimages/ripe/ripe.345493bd-b1c9-11ec-8355-84865adf2ffa.xml\n",
      "Image:C:\\Users\\chiar\\PycharmProjects\\detect_ripe_strawberry\\NN\\Tensorflow\\workspace\\images\\collectedimages\\ripe\\ripe.33179053-b1c9-11ec-8149-84865adf2ffa.jpg -> Annotation:C:/Users/chiar/PycharmProjects/detect_ripe_strawberry/NN/Tensorflow/workspace/images/collectedimages/ripe/ripe.33179053-b1c9-11ec-8149-84865adf2ffa.xml\n",
      "Image:C:\\Users\\chiar\\PycharmProjects\\detect_ripe_strawberry\\NN\\Tensorflow\\workspace\\images\\collectedimages\\ripe\\ripe.38108936-b1c9-11ec-ada1-84865adf2ffa.jpg -> Annotation:C:/Users/chiar/PycharmProjects/detect_ripe_strawberry/NN/Tensorflow/workspace/images/collectedimages/ripe/ripe.38108936-b1c9-11ec-ada1-84865adf2ffa.xml\n"
     ]
    }
   ],
   "source": [
    "# open up the application to label images\n",
    "\n",
    "!cd {LABELIMG_PATH} && python labelImg.py"
   ]
  },
  {
   "cell_type": "code",
   "execution_count": null,
   "metadata": {},
   "outputs": [],
   "source": [
    "# now we need train and test data\n",
    "# first create test and train folder \n",
    "# put some (WITH THEIR ANNOTATIONS) in each folder\n",
    "# I put 17 in train and 3 in test\n",
    "\n",
    "TRAIN_PATH = os.path.join('Tensorflow', 'workspace', 'images', 'train')\n",
    "TEST_PATH = os.path.join('Tensorflow', 'workspace', 'images', 'test')\n",
    "ARCHIVE_PATH = os.path.join('Tensorflow', 'workspace', 'images', 'archive.tar.gz')"
   ]
  }
 ],
 "metadata": {
  "kernelspec": {
   "display_name": "Python 3",
   "language": "python",
   "name": "python3"
  },
  "language_info": {
   "codemirror_mode": {
    "name": "ipython",
    "version": 3
   },
   "file_extension": ".py",
   "mimetype": "text/x-python",
   "name": "python",
   "nbconvert_exporter": "python",
   "pygments_lexer": "ipython3",
   "version": "3.8.5"
  }
 },
 "nbformat": 4,
 "nbformat_minor": 4
}
